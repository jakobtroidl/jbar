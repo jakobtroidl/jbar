{
 "cells": [
  {
   "cell_type": "code",
   "execution_count": 1,
   "metadata": {},
   "outputs": [
    {
     "name": "stdout",
     "output_type": "stream",
     "text": [
      "env: ANYWIDGET_HMR=1\n"
     ]
    }
   ],
   "source": [
    "%load_ext autoreload\n",
    "%autoreload 2\n",
    "%env ANYWIDGET_HMR=1"
   ]
  },
  {
   "cell_type": "code",
   "execution_count": 2,
   "metadata": {},
   "outputs": [],
   "source": [
    "import pandas as pd"
   ]
  },
  {
   "cell_type": "code",
   "execution_count": 3,
   "metadata": {},
   "outputs": [
    {
     "data": {
      "text/html": [
       "<div>\n",
       "<style scoped>\n",
       "    .dataframe tbody tr th:only-of-type {\n",
       "        vertical-align: middle;\n",
       "    }\n",
       "\n",
       "    .dataframe tbody tr th {\n",
       "        vertical-align: top;\n",
       "    }\n",
       "\n",
       "    .dataframe thead th {\n",
       "        text-align: right;\n",
       "    }\n",
       "</style>\n",
       "<table border=\"1\" class=\"dataframe\">\n",
       "  <thead>\n",
       "    <tr style=\"text-align: right;\">\n",
       "      <th></th>\n",
       "      <th>id</th>\n",
       "      <th>cell_type</th>\n",
       "      <th>cable_length</th>\n",
       "      <th>branches</th>\n",
       "      <th>leafs</th>\n",
       "      <th>incoming_syn</th>\n",
       "      <th>outgoing_syn</th>\n",
       "    </tr>\n",
       "  </thead>\n",
       "  <tbody>\n",
       "    <tr>\n",
       "      <th>0</th>\n",
       "      <td>0</td>\n",
       "      <td>T5d</td>\n",
       "      <td>256.188446</td>\n",
       "      <td>124</td>\n",
       "      <td>138</td>\n",
       "      <td>254</td>\n",
       "      <td>182</td>\n",
       "    </tr>\n",
       "    <tr>\n",
       "      <th>1</th>\n",
       "      <td>1</td>\n",
       "      <td>T4b</td>\n",
       "      <td>286.045196</td>\n",
       "      <td>107</td>\n",
       "      <td>114</td>\n",
       "      <td>280</td>\n",
       "      <td>185</td>\n",
       "    </tr>\n",
       "    <tr>\n",
       "      <th>2</th>\n",
       "      <td>2</td>\n",
       "      <td>T4d</td>\n",
       "      <td>334.341760</td>\n",
       "      <td>155</td>\n",
       "      <td>163</td>\n",
       "      <td>261</td>\n",
       "      <td>207</td>\n",
       "    </tr>\n",
       "    <tr>\n",
       "      <th>3</th>\n",
       "      <td>3</td>\n",
       "      <td>T5c</td>\n",
       "      <td>289.493671</td>\n",
       "      <td>132</td>\n",
       "      <td>149</td>\n",
       "      <td>322</td>\n",
       "      <td>223</td>\n",
       "    </tr>\n",
       "    <tr>\n",
       "      <th>4</th>\n",
       "      <td>4</td>\n",
       "      <td>T4a</td>\n",
       "      <td>356.367179</td>\n",
       "      <td>138</td>\n",
       "      <td>157</td>\n",
       "      <td>360</td>\n",
       "      <td>259</td>\n",
       "    </tr>\n",
       "  </tbody>\n",
       "</table>\n",
       "</div>"
      ],
      "text/plain": [
       "   id cell_type  cable_length  branches  leafs  incoming_syn  outgoing_syn\n",
       "0   0       T5d    256.188446       124    138           254           182\n",
       "1   1       T4b    286.045196       107    114           280           185\n",
       "2   2       T4d    334.341760       155    163           261           207\n",
       "3   3       T5c    289.493671       132    149           322           223\n",
       "4   4       T4a    356.367179       138    157           360           259"
      ]
     },
     "execution_count": 3,
     "metadata": {},
     "output_type": "execute_result"
    }
   ],
   "source": [
    "df = pd.read_csv('data/test_features.csv')\n",
    "df.head()"
   ]
  },
  {
   "cell_type": "code",
   "execution_count": 9,
   "metadata": {},
   "outputs": [
    {
     "data": {
      "application/vnd.jupyter.widget-view+json": {
       "model_id": "38ce68f89a5e4c5c8f3818f51e34507a",
       "version_major": 2,
       "version_minor": 0
      },
      "text/plain": [
       "BarChart(data='id,cell_type,cable_length,branches,leafs,incoming_syn,outgoing_syn\\n0,T5d,256.1884460449219,124…"
      ]
     },
     "execution_count": 9,
     "metadata": {},
     "output_type": "execute_result"
    }
   ],
   "source": [
    "from jbar import BarChart\n",
    "barchart = BarChart()\n",
    "barchart.update(df)"
   ]
  }
 ],
 "metadata": {
  "kernelspec": {
   "display_name": "Python 3 (ipykernel)",
   "language": "python",
   "name": "python3"
  },
  "language_info": {
   "codemirror_mode": {
    "name": "ipython",
    "version": 3
   },
   "file_extension": ".py",
   "mimetype": "text/x-python",
   "name": "python",
   "nbconvert_exporter": "python",
   "pygments_lexer": "ipython3",
   "version": "3.9.7"
  }
 },
 "nbformat": 4,
 "nbformat_minor": 4
}
